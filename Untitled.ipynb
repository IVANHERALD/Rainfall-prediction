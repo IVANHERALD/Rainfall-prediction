{
 "cells": [
  {
   "cell_type": "code",
   "execution_count": 6,
   "id": "dd797871",
   "metadata": {},
   "outputs": [
    {
     "data": {
      "text/html": [
       "<div>\n",
       "<style scoped>\n",
       "    .dataframe tbody tr th:only-of-type {\n",
       "        vertical-align: middle;\n",
       "    }\n",
       "\n",
       "    .dataframe tbody tr th {\n",
       "        vertical-align: top;\n",
       "    }\n",
       "\n",
       "    .dataframe thead th {\n",
       "        text-align: right;\n",
       "    }\n",
       "</style>\n",
       "<table border=\"1\" class=\"dataframe\">\n",
       "  <thead>\n",
       "    <tr style=\"text-align: right;\">\n",
       "      <th></th>\n",
       "      <th>SUBDIVISION</th>\n",
       "      <th>YEAR</th>\n",
       "      <th>JAN</th>\n",
       "      <th>FEB</th>\n",
       "      <th>MAR</th>\n",
       "      <th>APR</th>\n",
       "      <th>MAY</th>\n",
       "      <th>JUN</th>\n",
       "      <th>JUL</th>\n",
       "      <th>AUG</th>\n",
       "      <th>SEP</th>\n",
       "      <th>OCT</th>\n",
       "      <th>NOV</th>\n",
       "      <th>DEC</th>\n",
       "      <th>ANNUAL</th>\n",
       "      <th>Jan-Feb</th>\n",
       "      <th>Mar-May</th>\n",
       "      <th>Jun-Sep</th>\n",
       "      <th>Oct-Dec</th>\n",
       "    </tr>\n",
       "  </thead>\n",
       "  <tbody>\n",
       "    <tr>\n",
       "      <th>0</th>\n",
       "      <td>ANDAMAN &amp; NICOBAR ISLANDS</td>\n",
       "      <td>1901</td>\n",
       "      <td>49.2</td>\n",
       "      <td>87.1</td>\n",
       "      <td>29.2</td>\n",
       "      <td>2.3</td>\n",
       "      <td>528.8</td>\n",
       "      <td>517.5</td>\n",
       "      <td>365.1</td>\n",
       "      <td>481.1</td>\n",
       "      <td>332.6</td>\n",
       "      <td>388.5</td>\n",
       "      <td>558.2</td>\n",
       "      <td>33.6</td>\n",
       "      <td>3373.2</td>\n",
       "      <td>136.3</td>\n",
       "      <td>560.3</td>\n",
       "      <td>1696.3</td>\n",
       "      <td>980.3</td>\n",
       "    </tr>\n",
       "    <tr>\n",
       "      <th>1</th>\n",
       "      <td>ANDAMAN &amp; NICOBAR ISLANDS</td>\n",
       "      <td>1902</td>\n",
       "      <td>0.0</td>\n",
       "      <td>159.8</td>\n",
       "      <td>12.2</td>\n",
       "      <td>0.0</td>\n",
       "      <td>446.1</td>\n",
       "      <td>537.1</td>\n",
       "      <td>228.9</td>\n",
       "      <td>753.7</td>\n",
       "      <td>666.2</td>\n",
       "      <td>197.2</td>\n",
       "      <td>359.0</td>\n",
       "      <td>160.5</td>\n",
       "      <td>3520.7</td>\n",
       "      <td>159.8</td>\n",
       "      <td>458.3</td>\n",
       "      <td>2185.9</td>\n",
       "      <td>716.7</td>\n",
       "    </tr>\n",
       "    <tr>\n",
       "      <th>2</th>\n",
       "      <td>ANDAMAN &amp; NICOBAR ISLANDS</td>\n",
       "      <td>1903</td>\n",
       "      <td>12.7</td>\n",
       "      <td>144.0</td>\n",
       "      <td>0.0</td>\n",
       "      <td>1.0</td>\n",
       "      <td>235.1</td>\n",
       "      <td>479.9</td>\n",
       "      <td>728.4</td>\n",
       "      <td>326.7</td>\n",
       "      <td>339.0</td>\n",
       "      <td>181.2</td>\n",
       "      <td>284.4</td>\n",
       "      <td>225.0</td>\n",
       "      <td>2957.4</td>\n",
       "      <td>156.7</td>\n",
       "      <td>236.1</td>\n",
       "      <td>1874.0</td>\n",
       "      <td>690.6</td>\n",
       "    </tr>\n",
       "    <tr>\n",
       "      <th>3</th>\n",
       "      <td>ANDAMAN &amp; NICOBAR ISLANDS</td>\n",
       "      <td>1904</td>\n",
       "      <td>9.4</td>\n",
       "      <td>14.7</td>\n",
       "      <td>0.0</td>\n",
       "      <td>202.4</td>\n",
       "      <td>304.5</td>\n",
       "      <td>495.1</td>\n",
       "      <td>502.0</td>\n",
       "      <td>160.1</td>\n",
       "      <td>820.4</td>\n",
       "      <td>222.2</td>\n",
       "      <td>308.7</td>\n",
       "      <td>40.1</td>\n",
       "      <td>3079.6</td>\n",
       "      <td>24.1</td>\n",
       "      <td>506.9</td>\n",
       "      <td>1977.6</td>\n",
       "      <td>571.0</td>\n",
       "    </tr>\n",
       "    <tr>\n",
       "      <th>4</th>\n",
       "      <td>ANDAMAN &amp; NICOBAR ISLANDS</td>\n",
       "      <td>1905</td>\n",
       "      <td>1.3</td>\n",
       "      <td>0.0</td>\n",
       "      <td>3.3</td>\n",
       "      <td>26.9</td>\n",
       "      <td>279.5</td>\n",
       "      <td>628.7</td>\n",
       "      <td>368.7</td>\n",
       "      <td>330.5</td>\n",
       "      <td>297.0</td>\n",
       "      <td>260.7</td>\n",
       "      <td>25.4</td>\n",
       "      <td>344.7</td>\n",
       "      <td>2566.7</td>\n",
       "      <td>1.3</td>\n",
       "      <td>309.7</td>\n",
       "      <td>1624.9</td>\n",
       "      <td>630.8</td>\n",
       "    </tr>\n",
       "  </tbody>\n",
       "</table>\n",
       "</div>"
      ],
      "text/plain": [
       "                 SUBDIVISION  YEAR   JAN    FEB   MAR    APR    MAY    JUN  \\\n",
       "0  ANDAMAN & NICOBAR ISLANDS  1901  49.2   87.1  29.2    2.3  528.8  517.5   \n",
       "1  ANDAMAN & NICOBAR ISLANDS  1902   0.0  159.8  12.2    0.0  446.1  537.1   \n",
       "2  ANDAMAN & NICOBAR ISLANDS  1903  12.7  144.0   0.0    1.0  235.1  479.9   \n",
       "3  ANDAMAN & NICOBAR ISLANDS  1904   9.4   14.7   0.0  202.4  304.5  495.1   \n",
       "4  ANDAMAN & NICOBAR ISLANDS  1905   1.3    0.0   3.3   26.9  279.5  628.7   \n",
       "\n",
       "     JUL    AUG    SEP    OCT    NOV    DEC  ANNUAL  Jan-Feb  Mar-May  \\\n",
       "0  365.1  481.1  332.6  388.5  558.2   33.6  3373.2    136.3    560.3   \n",
       "1  228.9  753.7  666.2  197.2  359.0  160.5  3520.7    159.8    458.3   \n",
       "2  728.4  326.7  339.0  181.2  284.4  225.0  2957.4    156.7    236.1   \n",
       "3  502.0  160.1  820.4  222.2  308.7   40.1  3079.6     24.1    506.9   \n",
       "4  368.7  330.5  297.0  260.7   25.4  344.7  2566.7      1.3    309.7   \n",
       "\n",
       "   Jun-Sep  Oct-Dec  \n",
       "0   1696.3    980.3  \n",
       "1   2185.9    716.7  \n",
       "2   1874.0    690.6  \n",
       "3   1977.6    571.0  \n",
       "4   1624.9    630.8  "
      ]
     },
     "execution_count": 6,
     "metadata": {},
     "output_type": "execute_result"
    }
   ],
   "source": [
    "import pandas as pd\n",
    "import numpy as np\n",
    "from sklearn.model_selection import train_test_split\n",
    "from sklearn.metrics import mean_absolute_error\n",
    "from sklearn.ensemble import RandomForestRegressor\n",
    "\n",
    "\n",
    "import matplotlib.pyplot as plt\n",
    "df=pd.read_csv(\"india.csv\")\n",
    "df.head()"
   ]
  },
  {
   "cell_type": "code",
   "execution_count": 7,
   "id": "eb9d8cd7",
   "metadata": {},
   "outputs": [
    {
     "data": {
      "text/plain": [
       "SUBDIVISION    ANDAMAN & NICOBAR ISLANDS\n",
       "YEAR                                1923\n",
       "JAN                                 79.5\n",
       "FEB                                  0.0\n",
       "MAR                                  0.0\n",
       "APR                                 91.3\n",
       "MAY                                293.5\n",
       "JUN                                808.4\n",
       "JUL                                636.9\n",
       "AUG                                182.2\n",
       "SEP                                560.5\n",
       "OCT                                131.9\n",
       "NOV                                197.4\n",
       "DEC                                 70.6\n",
       "ANNUAL                               0.0\n",
       "Jan-Feb                             79.5\n",
       "Mar-May                              0.0\n",
       "Jun-Sep                           2188.0\n",
       "Oct-Dec                            399.9\n",
       "Name: 21, dtype: object"
      ]
     },
     "execution_count": 7,
     "metadata": {},
     "output_type": "execute_result"
    }
   ],
   "source": [
    "df.fillna(value = 0,inplace =True)\n",
    "df.loc[21]"
   ]
  },
  {
   "cell_type": "code",
   "execution_count": 8,
   "id": "528dc208",
   "metadata": {},
   "outputs": [
    {
     "data": {
      "text/html": [
       "<div>\n",
       "<style scoped>\n",
       "    .dataframe tbody tr th:only-of-type {\n",
       "        vertical-align: middle;\n",
       "    }\n",
       "\n",
       "    .dataframe tbody tr th {\n",
       "        vertical-align: top;\n",
       "    }\n",
       "\n",
       "    .dataframe thead th {\n",
       "        text-align: right;\n",
       "    }\n",
       "</style>\n",
       "<table border=\"1\" class=\"dataframe\">\n",
       "  <thead>\n",
       "    <tr style=\"text-align: right;\">\n",
       "      <th></th>\n",
       "      <th>SUBDIVISION</th>\n",
       "      <th>YEAR</th>\n",
       "      <th>JAN</th>\n",
       "      <th>FEB</th>\n",
       "      <th>MAR</th>\n",
       "      <th>APR</th>\n",
       "      <th>MAY</th>\n",
       "      <th>JUN</th>\n",
       "      <th>JUL</th>\n",
       "      <th>AUG</th>\n",
       "      <th>SEP</th>\n",
       "      <th>OCT</th>\n",
       "      <th>NOV</th>\n",
       "      <th>DEC</th>\n",
       "      <th>ANNUAL</th>\n",
       "      <th>Jan-Feb</th>\n",
       "      <th>Mar-May</th>\n",
       "      <th>Jun-Sep</th>\n",
       "      <th>Oct-Dec</th>\n",
       "    </tr>\n",
       "  </thead>\n",
       "  <tbody>\n",
       "    <tr>\n",
       "      <th>3427</th>\n",
       "      <td>TAMIL NADU</td>\n",
       "      <td>1901</td>\n",
       "      <td>24.5</td>\n",
       "      <td>39.1</td>\n",
       "      <td>21.7</td>\n",
       "      <td>36.0</td>\n",
       "      <td>74.0</td>\n",
       "      <td>41.8</td>\n",
       "      <td>49.3</td>\n",
       "      <td>67.9</td>\n",
       "      <td>191.1</td>\n",
       "      <td>122.3</td>\n",
       "      <td>212.3</td>\n",
       "      <td>80.4</td>\n",
       "      <td>960.3</td>\n",
       "      <td>63.6</td>\n",
       "      <td>131.6</td>\n",
       "      <td>350.1</td>\n",
       "      <td>415.0</td>\n",
       "    </tr>\n",
       "    <tr>\n",
       "      <th>3428</th>\n",
       "      <td>TAMIL NADU</td>\n",
       "      <td>1902</td>\n",
       "      <td>67.2</td>\n",
       "      <td>9.8</td>\n",
       "      <td>25.1</td>\n",
       "      <td>21.9</td>\n",
       "      <td>84.7</td>\n",
       "      <td>39.3</td>\n",
       "      <td>55.1</td>\n",
       "      <td>113.8</td>\n",
       "      <td>98.6</td>\n",
       "      <td>282.2</td>\n",
       "      <td>174.9</td>\n",
       "      <td>165.8</td>\n",
       "      <td>1138.2</td>\n",
       "      <td>77.0</td>\n",
       "      <td>131.7</td>\n",
       "      <td>306.7</td>\n",
       "      <td>622.9</td>\n",
       "    </tr>\n",
       "    <tr>\n",
       "      <th>3429</th>\n",
       "      <td>TAMIL NADU</td>\n",
       "      <td>1903</td>\n",
       "      <td>19.3</td>\n",
       "      <td>7.8</td>\n",
       "      <td>1.7</td>\n",
       "      <td>18.2</td>\n",
       "      <td>128.5</td>\n",
       "      <td>58.5</td>\n",
       "      <td>72.6</td>\n",
       "      <td>115.0</td>\n",
       "      <td>210.4</td>\n",
       "      <td>128.1</td>\n",
       "      <td>200.5</td>\n",
       "      <td>203.2</td>\n",
       "      <td>1163.9</td>\n",
       "      <td>27.1</td>\n",
       "      <td>148.4</td>\n",
       "      <td>456.5</td>\n",
       "      <td>531.9</td>\n",
       "    </tr>\n",
       "    <tr>\n",
       "      <th>3430</th>\n",
       "      <td>TAMIL NADU</td>\n",
       "      <td>1904</td>\n",
       "      <td>35.2</td>\n",
       "      <td>0.1</td>\n",
       "      <td>0.7</td>\n",
       "      <td>19.5</td>\n",
       "      <td>121.9</td>\n",
       "      <td>34.9</td>\n",
       "      <td>89.0</td>\n",
       "      <td>40.4</td>\n",
       "      <td>85.7</td>\n",
       "      <td>163.2</td>\n",
       "      <td>23.6</td>\n",
       "      <td>49.1</td>\n",
       "      <td>663.1</td>\n",
       "      <td>35.3</td>\n",
       "      <td>142.1</td>\n",
       "      <td>249.9</td>\n",
       "      <td>235.8</td>\n",
       "    </tr>\n",
       "    <tr>\n",
       "      <th>3431</th>\n",
       "      <td>TAMIL NADU</td>\n",
       "      <td>1905</td>\n",
       "      <td>6.5</td>\n",
       "      <td>7.5</td>\n",
       "      <td>17.2</td>\n",
       "      <td>64.8</td>\n",
       "      <td>83.7</td>\n",
       "      <td>49.8</td>\n",
       "      <td>39.0</td>\n",
       "      <td>101.8</td>\n",
       "      <td>73.5</td>\n",
       "      <td>250.4</td>\n",
       "      <td>123.7</td>\n",
       "      <td>3.2</td>\n",
       "      <td>821.1</td>\n",
       "      <td>14.0</td>\n",
       "      <td>165.7</td>\n",
       "      <td>264.1</td>\n",
       "      <td>377.2</td>\n",
       "    </tr>\n",
       "  </tbody>\n",
       "</table>\n",
       "</div>"
      ],
      "text/plain": [
       "     SUBDIVISION  YEAR   JAN   FEB   MAR   APR    MAY   JUN   JUL    AUG  \\\n",
       "3427  TAMIL NADU  1901  24.5  39.1  21.7  36.0   74.0  41.8  49.3   67.9   \n",
       "3428  TAMIL NADU  1902  67.2   9.8  25.1  21.9   84.7  39.3  55.1  113.8   \n",
       "3429  TAMIL NADU  1903  19.3   7.8   1.7  18.2  128.5  58.5  72.6  115.0   \n",
       "3430  TAMIL NADU  1904  35.2   0.1   0.7  19.5  121.9  34.9  89.0   40.4   \n",
       "3431  TAMIL NADU  1905   6.5   7.5  17.2  64.8   83.7  49.8  39.0  101.8   \n",
       "\n",
       "        SEP    OCT    NOV    DEC  ANNUAL  Jan-Feb  Mar-May  Jun-Sep  Oct-Dec  \n",
       "3427  191.1  122.3  212.3   80.4   960.3     63.6    131.6    350.1    415.0  \n",
       "3428   98.6  282.2  174.9  165.8  1138.2     77.0    131.7    306.7    622.9  \n",
       "3429  210.4  128.1  200.5  203.2  1163.9     27.1    148.4    456.5    531.9  \n",
       "3430   85.7  163.2   23.6   49.1   663.1     35.3    142.1    249.9    235.8  \n",
       "3431   73.5  250.4  123.7    3.2   821.1     14.0    165.7    264.1    377.2  "
      ]
     },
     "execution_count": 8,
     "metadata": {},
     "output_type": "execute_result"
    }
   ],
   "source": [
    "grouped = df.groupby(df.SUBDIVISION)\n",
    "TN = grouped.get_group(\"TAMIL NADU\")\n",
    "TN.head()"
   ]
  },
  {
   "cell_type": "code",
   "execution_count": 9,
   "id": "b2fae4cf",
   "metadata": {},
   "outputs": [
    {
     "data": {
      "text/plain": [
       "array([[<AxesSubplot:title={'center':'YEAR'}>,\n",
       "        <AxesSubplot:title={'center':'JAN'}>,\n",
       "        <AxesSubplot:title={'center':'FEB'}>,\n",
       "        <AxesSubplot:title={'center':'MAR'}>],\n",
       "       [<AxesSubplot:title={'center':'APR'}>,\n",
       "        <AxesSubplot:title={'center':'MAY'}>,\n",
       "        <AxesSubplot:title={'center':'JUN'}>,\n",
       "        <AxesSubplot:title={'center':'JUL'}>],\n",
       "       [<AxesSubplot:title={'center':'AUG'}>,\n",
       "        <AxesSubplot:title={'center':'SEP'}>,\n",
       "        <AxesSubplot:title={'center':'OCT'}>,\n",
       "        <AxesSubplot:title={'center':'NOV'}>],\n",
       "       [<AxesSubplot:title={'center':'DEC'}>,\n",
       "        <AxesSubplot:title={'center':'ANNUAL'}>,\n",
       "        <AxesSubplot:title={'center':'Jan-Feb'}>,\n",
       "        <AxesSubplot:title={'center':'Mar-May'}>],\n",
       "       [<AxesSubplot:title={'center':'Jun-Sep'}>,\n",
       "        <AxesSubplot:title={'center':'Oct-Dec'}>, <AxesSubplot:>,\n",
       "        <AxesSubplot:>]], dtype=object)"
      ]
     },
     "execution_count": 9,
     "metadata": {},
     "output_type": "execute_result"
    },
    {
     "data": {
      "image/png": "[encoded data removed]",
      "text/plain": [
       "<Figure size 864x864 with 20 Axes>"
      ]
     },
     "metadata": {
      "needs_background": "light"
     },
     "output_type": "display_data"
    }
   ],
   "source": [
    "TN.hist(figsize=(12,12))"
   ]
  },
  {
   "cell_type": "code",
   "execution_count": 10,
   "id": "b1ebaca8",
   "metadata": {},
   "outputs": [
    {
     "name": "stdout",
     "output_type": "stream",
     "text": [
      "(115, 4)\n",
      "(115, 12)\n"
     ]
    }
   ],
   "source": [
    "data = np.asarray(TN[['FEB', 'MAR', 'APR','MAY']])\n",
    "print(np.shape(data))\n",
    "X = data[:,0:3]\n",
    "y = data[:,3]\n",
    "data = np.asarray(TN[['JAN', 'FEB', 'MAR', 'APR', 'MAY', 'JUN', 'JUL',\n",
    "       'AUG', 'SEP', 'OCT', 'NOV', 'DEC']])\n",
    "print(np.shape(data))"
   ]
  },
  {
   "cell_type": "code",
   "execution_count": 11,
   "id": "261c0998",
   "metadata": {},
   "outputs": [],
   "source": [
    "X = None; y = None\n",
    "for i in range(data.shape[1]-3):\n",
    "    if X is None:\n",
    "        X = data[:, i:i+3]\n",
    "        y = data[:, i+3]\n",
    "    else:\n",
    "        X = np.concatenate((X, data[:, i:i+3]), axis=0)\n",
    "        y = np.concatenate((y, data[:, i+3]), axis=0)\n",
    "        X_train, X_test, y_train, y_test = train_test_split(X, y, test_size=0.2, random_state=42)\n",
    "        np.shape(X_test)"
   ]
  },
  {
   "cell_type": "code",
   "execution_count": 12,
   "id": "6c1e3429",
   "metadata": {},
   "outputs": [
    {
     "data": {
      "text/plain": [
       "45.088267829214644"
      ]
     },
     "execution_count": 12,
     "metadata": {},
     "output_type": "execute_result"
    }
   ],
   "source": [
    "rf = RandomForestRegressor(n_estimators = 100, max_depth=10, n_jobs=1)\n",
    "rf.fit(X_train, y_train)\n",
    "y_pred = rf.predict(X_test)\n",
    "mean_absolute_error(y_test, y_pred)"
   ]
  },
  {
   "cell_type": "code",
   "execution_count": 13,
   "id": "8b459982",
   "metadata": {},
   "outputs": [],
   "source": [
    "xx = np.arange(start=0,stop=len(y_pred),step=1)"
   ]
  },
  {
   "cell_type": "code",
   "execution_count": 14,
   "id": "cec1169e",
   "metadata": {},
   "outputs": [
    {
     "data": {
      "text/plain": [
       "<matplotlib.legend.Legend at 0x26630cbde80>"
      ]
     },
     "execution_count": 14,
     "metadata": {},
     "output_type": "execute_result"
    },
    {
     "data": {
      "image/png": "[encoded data removed]",
      "text/plain": [
       "<Figure size 432x288 with 1 Axes>"
      ]
     },
     "metadata": {
      "needs_background": "light"
     },
     "output_type": "display_data"
    }
   ],
   "source": [
    "plt.vlines(x=xx, ymin=y_pred, ymax=y_test, color='black', alpha=0.4)\n",
    "plt.scatter(xx,y_pred,color='red', alpha=1, label='pred')\n",
    "plt.scatter( xx,y_test, color='blue', alpha=0.8 , label='test')\n",
    "plt.scatter(xx,np.abs(y_pred-y_test),color='gold',label='abs_error',marker='x')\n",
    "plt.legend()"
   ]
  },
  {
   "cell_type": "code",
   "execution_count": 15,
   "id": "c089349a",
   "metadata": {},
   "outputs": [
    {
     "data": {
      "text/plain": [
       "26.403060626313547"
      ]
     },
     "execution_count": 15,
     "metadata": {},
     "output_type": "execute_result"
    }
   ],
   "source": [
    "rf = RandomForestRegressor(n_estimators = 100, max_depth=10, n_jobs=1)\n",
    "rf.fit(X, y)\n",
    "y_pred = rf.predict(X)\n",
    "mean_absolute_error(y, y_pred)"
   ]
  },
  {
   "cell_type": "code",
   "execution_count": 16,
   "id": "2583b706",
   "metadata": {},
   "outputs": [
    {
     "data": {
      "text/plain": [
       "[<matplotlib.lines.Line2D at 0x26630dc7970>]"
      ]
     },
     "execution_count": 16,
     "metadata": {},
     "output_type": "execute_result"
    },
    {
     "data": {
      "image/png": "[encoded data removed]",
      "text/plain": [
       "<Figure size 432x288 with 1 Axes>"
      ]
     },
     "metadata": {
      "needs_background": "light"
     },
     "output_type": "display_data"
    }
   ],
   "source": [
    "x_tot =np.arange(start=0,stop=len(y_pred),step=1)\n",
    "plt.plot(x_tot,y_pred)\n",
    "plt.plot(x_tot,y, \"green\")"
   ]
  },
  {
   "cell_type": "code",
   "execution_count": null,
   "id": "5e3da662",
   "metadata": {},
   "outputs": [],
   "source": []
  }
 ],
 "metadata": {
  "kernelspec": {
   "display_name": "Python 3 (ipykernel)",
   "language": "python",
   "name": "python3"
  },
  "language_info": {
   "codemirror_mode": {
    "name": "ipython",
    "version": 3
   },
   "file_extension": ".py",
   "mimetype": "text/x-python",
   "name": "python",
   "nbconvert_exporter": "python",
   "pygments_lexer": "ipython3",
   "version": "3.9.7"
  }
 },
 "nbformat": 4,
 "nbformat_minor": 5
}
